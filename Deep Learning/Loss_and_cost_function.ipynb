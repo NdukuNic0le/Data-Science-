{
 "cells": [
  {
   "cell_type": "code",
   "execution_count": 1,
   "id": "3a392fd6-1d54-4e5f-9eec-69610f1b32e6",
   "metadata": {},
   "outputs": [],
   "source": [
    "import numpy as np"
   ]
  },
  {
   "cell_type": "code",
   "execution_count": 2,
   "id": "35ff4f81-bfe1-405e-aa9d-44859b27375d",
   "metadata": {},
   "outputs": [],
   "source": [
    "y_predicted = np.array([1,1,0,0,1])\n",
    "y_actual = np.array([0.3,0.7,1,0,0.5])"
   ]
  },
  {
   "cell_type": "code",
   "execution_count": 3,
   "id": "bfe444de-5b5b-4a53-be2f-6879a502e9fa",
   "metadata": {},
   "outputs": [],
   "source": [
    "# Mean Absolute Error = absolute(predicted value - actual value / n)\n",
    "def mae(y_actual,y_predicted):\n",
    "    total_error = 0\n",
    "    for ya, yp in zip(y_actual, y_predicted):\n",
    "        total_error += abs(yp - ya)\n",
    "    print (\"Total Error:\", total_error)\n",
    "    mae = round(total_error/ len (y_actual),2)\n",
    "    print(\"Mean Absolute Error:\", mae)\n",
    "    return mae"
   ]
  },
  {
   "cell_type": "code",
   "execution_count": 4,
   "id": "8d277941-c4ac-4263-83dd-87a14972def6",
   "metadata": {},
   "outputs": [
    {
     "name": "stdout",
     "output_type": "stream",
     "text": [
      "Total Error: 2.5\n",
      "Mean Absolute Error: 0.5\n"
     ]
    },
    {
     "data": {
      "text/plain": [
       "0.5"
      ]
     },
     "execution_count": 4,
     "metadata": {},
     "output_type": "execute_result"
    }
   ],
   "source": [
    "mae(y_actual,y_predicted)"
   ]
  },
  {
   "cell_type": "code",
   "execution_count": 5,
   "id": "372366b6-c00e-41ad-9be6-01e587fccca4",
   "metadata": {
    "scrolled": true
   },
   "outputs": [
    {
     "data": {
      "text/plain": [
       "array([0.7, 0.3, 1. , 0. , 0.5])"
      ]
     },
     "execution_count": 5,
     "metadata": {},
     "output_type": "execute_result"
    }
   ],
   "source": [
    "np.abs(y_predicted-y_actual)"
   ]
  },
  {
   "cell_type": "code",
   "execution_count": 6,
   "id": "5840c3ac-d1c8-4a46-8b22-a5b336e457ac",
   "metadata": {},
   "outputs": [
    {
     "data": {
      "text/plain": [
       "0.5"
      ]
     },
     "execution_count": 6,
     "metadata": {},
     "output_type": "execute_result"
    }
   ],
   "source": [
    "np.mean(np.abs(y_predicted-y_actual))"
   ]
  },
  {
   "cell_type": "markdown",
   "id": "9357c992-bf12-48c3-afa2-0c9dfc575aa3",
   "metadata": {},
   "source": [
    "Implementing Log Loss or Binary Cross Entropy"
   ]
  },
  {
   "cell_type": "code",
   "execution_count": 7,
   "id": "d08d1ac1-c868-43e7-b7a8-d0efdd93a9fe",
   "metadata": {},
   "outputs": [
    {
     "name": "stderr",
     "output_type": "stream",
     "text": [
      "C:\\Users\\nduku\\AppData\\Local\\Temp\\ipykernel_19304\\818971425.py:2: RuntimeWarning: divide by zero encountered in log\n",
      "  np.log([0])\n"
     ]
    },
    {
     "data": {
      "text/plain": [
       "array([-inf])"
      ]
     },
     "execution_count": 7,
     "metadata": {},
     "output_type": "execute_result"
    }
   ],
   "source": [
    "# Because we cannot calculate log 0 we need to replace the predicted values with values close to 0 amd 1\n",
    "np.log([0])"
   ]
  },
  {
   "cell_type": "code",
   "execution_count": 8,
   "id": "117976b9-69b8-4e63-854d-94bcea17fb05",
   "metadata": {},
   "outputs": [],
   "source": [
    "epsilon = 1e-15"
   ]
  },
  {
   "cell_type": "code",
   "execution_count": 9,
   "id": "7bed163a-fbaf-48e4-9dfe-6e3fbef9b45e",
   "metadata": {},
   "outputs": [
    {
     "data": {
      "text/plain": [
       "array([-34.53877639])"
      ]
     },
     "execution_count": 9,
     "metadata": {},
     "output_type": "execute_result"
    }
   ],
   "source": [
    "np.log([1e-15])"
   ]
  },
  {
   "cell_type": "code",
   "execution_count": 10,
   "id": "42d61df3-d01b-4b1f-8f7c-f2f7c92d44b2",
   "metadata": {},
   "outputs": [
    {
     "data": {
      "text/plain": [
       "[1, 1, 1e-15, 1e-15, 1]"
      ]
     },
     "execution_count": 10,
     "metadata": {},
     "output_type": "execute_result"
    }
   ],
   "source": [
    "y_predicted_new = [max(i,epsilon) for i in y_predicted]\n",
    "y_predicted_new"
   ]
  },
  {
   "cell_type": "code",
   "execution_count": 11,
   "id": "5d7af51a-2fb3-4cae-967c-c44a2e68e1fe",
   "metadata": {},
   "outputs": [
    {
     "data": {
      "text/plain": [
       "[0.999999999999999, 0.999999999999999, 1e-15, 1e-15, 0.999999999999999]"
      ]
     },
     "execution_count": 11,
     "metadata": {},
     "output_type": "execute_result"
    }
   ],
   "source": [
    "y_predicted_new = [min(i,1-epsilon) for i in y_predicted_new]\n",
    "y_predicted_new"
   ]
  },
  {
   "cell_type": "code",
   "execution_count": 13,
   "id": "61a65f0e-27a9-465e-9d4f-c003921c7689",
   "metadata": {},
   "outputs": [
    {
     "data": {
      "text/plain": [
       "array([-9.99200722e-16, -9.99200722e-16, -3.45387764e+01, -3.45387764e+01,\n",
       "       -9.99200722e-16])"
      ]
     },
     "execution_count": 13,
     "metadata": {},
     "output_type": "execute_result"
    }
   ],
   "source": [
    "y_predicted_new = np.array(y_predicted_new)\n",
    "np.log(y_predicted_new)"
   ]
  },
  {
   "cell_type": "code",
   "execution_count": 14,
   "id": "7ad8f3c1-edb0-4045-8fe6-e5fd01d3fff0",
   "metadata": {},
   "outputs": [
    {
     "data": {
      "text/plain": [
       "17.2696280766844"
      ]
     },
     "execution_count": 14,
     "metadata": {},
     "output_type": "execute_result"
    }
   ],
   "source": [
    "# Log Loss Formula\n",
    "-np.mean(y_actual*np.log(y_predicted_new)+(1-y_actual)*np.log(1-y_predicted_new))"
   ]
  },
  {
   "cell_type": "code",
   "execution_count": 16,
   "id": "32e68cf9-7bab-47b9-98ba-6946fdc34733",
   "metadata": {},
   "outputs": [],
   "source": [
    "def log_loss(y_actual,y_predicted):\n",
    "    epsilon = 1e-15\n",
    "    y_predicted_new = [max(i,epsilon) for i in y_predicted]\n",
    "    y_predicted_new = [min(i,1-epsilon) for i in y_predicted_new]\n",
    "    y_predicted_new = np.array(y_predicted_new)\n",
    "    return -np.mean(y_actual*np.log(y_predicted_new)+(1-y_actual)*np.log(1-y_predicted_new))"
   ]
  },
  {
   "cell_type": "code",
   "execution_count": 17,
   "id": "9602c7d8-bfe1-4122-8cf0-5de6741290e1",
   "metadata": {},
   "outputs": [
    {
     "data": {
      "text/plain": [
       "17.2696280766844"
      ]
     },
     "execution_count": 17,
     "metadata": {},
     "output_type": "execute_result"
    }
   ],
   "source": [
    "log_loss(y_actual,y_predicted)"
   ]
  },
  {
   "cell_type": "code",
   "execution_count": 25,
   "id": "f26e81f6-c8fa-43df-9d39-9fa7cbc9ffc9",
   "metadata": {},
   "outputs": [],
   "source": [
    "#Mean Squared Error\n",
    "def mse(y_actual, y_predicted):\n",
    "    total_error2 = 0\n",
    "    for ya, yp in zip (y_actual, y_predicted):\n",
    "        error = yp - ya\n",
    "        total_error2 += error ** 2\n",
    "    print (\"Total Error:\", total_error2)\n",
    "    mse = total_error2 / len (y_actual)\n",
    "    print(\"Mean Squared Error:\", mse)\n",
    "    return mse"
   ]
  },
  {
   "cell_type": "code",
   "execution_count": 26,
   "id": "56ae8585-a10c-43c6-a1d4-5cd535a1df9e",
   "metadata": {},
   "outputs": [
    {
     "name": "stdout",
     "output_type": "stream",
     "text": [
      "Total Error: 1.83\n",
      "Mean Squared Error: 0.366\n"
     ]
    },
    {
     "data": {
      "text/plain": [
       "0.366"
      ]
     },
     "execution_count": 26,
     "metadata": {},
     "output_type": "execute_result"
    }
   ],
   "source": [
    "mse(y_actual, y_predicted)"
   ]
  },
  {
   "cell_type": "code",
   "execution_count": 27,
   "id": "f49a2b41-de3c-4bf8-8f39-89c52e69abbe",
   "metadata": {},
   "outputs": [
    {
     "data": {
      "text/plain": [
       "array([0.49, 0.09, 1.  , 0.  , 0.25])"
      ]
     },
     "execution_count": 27,
     "metadata": {},
     "output_type": "execute_result"
    }
   ],
   "source": [
    "np.square(y_predicted-y_actual)"
   ]
  },
  {
   "cell_type": "code",
   "execution_count": 28,
   "id": "ccfe79fb-4880-4569-be95-fd36f439f188",
   "metadata": {},
   "outputs": [
    {
     "data": {
      "text/plain": [
       "1.83"
      ]
     },
     "execution_count": 28,
     "metadata": {},
     "output_type": "execute_result"
    }
   ],
   "source": [
    "np.sum(np.square(y_predicted-y_actual))"
   ]
  },
  {
   "cell_type": "code",
   "execution_count": 29,
   "id": "ee5ada31-953d-4fc6-b2d7-8b2424d9b6bc",
   "metadata": {},
   "outputs": [
    {
     "data": {
      "text/plain": [
       "0.366"
      ]
     },
     "execution_count": 29,
     "metadata": {},
     "output_type": "execute_result"
    }
   ],
   "source": [
    "np.mean(np.square(y_predicted-y_actual))"
   ]
  }
 ],
 "metadata": {
  "kernelspec": {
   "display_name": "Python 3 (ipykernel)",
   "language": "python",
   "name": "python3"
  },
  "language_info": {
   "codemirror_mode": {
    "name": "ipython",
    "version": 3
   },
   "file_extension": ".py",
   "mimetype": "text/x-python",
   "name": "python",
   "nbconvert_exporter": "python",
   "pygments_lexer": "ipython3",
   "version": "3.11.5"
  }
 },
 "nbformat": 4,
 "nbformat_minor": 5
}
