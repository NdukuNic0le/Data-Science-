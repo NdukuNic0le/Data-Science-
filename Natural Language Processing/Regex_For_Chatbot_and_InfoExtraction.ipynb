{
 "cells": [
  {
   "cell_type": "code",
   "execution_count": 1,
   "id": "18f5f353-bd15-476d-9c18-ab2db6c4767e",
   "metadata": {},
   "outputs": [],
   "source": [
    "import re"
   ]
  },
  {
   "cell_type": "markdown",
   "id": "f9367700-6d3b-4cf8-a867-7395a74d5106",
   "metadata": {},
   "source": [
    "<h1>(1) Regex in customer support</h1>"
   ]
  },
  {
   "cell_type": "markdown",
   "id": "b7975ee1-1177-4c00-9c9b-438e76ca4e25",
   "metadata": {},
   "source": [
    "**Retrieve phone number**"
   ]
  },
  {
   "cell_type": "code",
   "execution_count": 9,
   "id": "e8feaa6e-410d-485b-b9ee-78452b319a8c",
   "metadata": {},
   "outputs": [
    {
     "data": {
      "text/plain": [
       "['1235678912']"
      ]
     },
     "execution_count": 9,
     "metadata": {},
     "output_type": "execute_result"
    }
   ],
   "source": [
    "chat1 = 'userbasics: you ask lot of questions 😠  1235678912, abc@xyz.com'\n",
    "chat2 = 'userbasics: here it is: (123)-567-8912, abc_82@xyz.com'\n",
    "chat3 = 'userbasics: yes, phone: 1235678912 email: abc@xyz.com'\n",
    "\n",
    "pattern = '\\d{10}|\\(\\d{3}\\)-\\d{3}-\\d{4}' \n",
    "matches = re.findall(pattern, chat1)\n",
    "matches"
   ]
  },
  {
   "cell_type": "markdown",
   "id": "e7f7a1ee-4220-40b2-a956-22b75979ce65",
   "metadata": {},
   "source": [
    "A or B is A|B"
   ]
  },
  {
   "cell_type": "code",
   "execution_count": 10,
   "id": "a81b9038-2d20-4af2-bdbd-7157aaebda1d",
   "metadata": {},
   "outputs": [
    {
     "data": {
      "text/plain": [
       "['(123)-567-8912']"
      ]
     },
     "execution_count": 10,
     "metadata": {},
     "output_type": "execute_result"
    }
   ],
   "source": [
    "re.findall(pattern, chat2)"
   ]
  },
  {
   "cell_type": "code",
   "execution_count": 11,
   "id": "7fbcb804-6566-4adf-aacb-d87013841f60",
   "metadata": {},
   "outputs": [
    {
     "data": {
      "text/plain": [
       "['1235678912']"
      ]
     },
     "execution_count": 11,
     "metadata": {},
     "output_type": "execute_result"
    }
   ],
   "source": [
    "re.findall(pattern, chat3)"
   ]
  },
  {
   "cell_type": "markdown",
   "id": "6fa6c01a-975e-4371-85ca-2436ec63387b",
   "metadata": {},
   "source": [
    "**Retrieve email**"
   ]
  },
  {
   "cell_type": "code",
   "execution_count": 12,
   "id": "e27e102d-4560-49e8-9cc3-22d2a212b799",
   "metadata": {},
   "outputs": [
    {
     "data": {
      "text/plain": [
       "['abc@xyz.com']"
      ]
     },
     "execution_count": 12,
     "metadata": {},
     "output_type": "execute_result"
    }
   ],
   "source": [
    "pattern = '[a-zA-Z0-9_]*@[a-zA-Z0-9_]*\\.[a-zA-Z]*'\n",
    "matches = re.findall(pattern, chat1)\n",
    "matches"
   ]
  },
  {
   "cell_type": "code",
   "execution_count": 13,
   "id": "9f8f187d-2c83-4b4e-a83d-e67dee93379f",
   "metadata": {},
   "outputs": [
    {
     "data": {
      "text/plain": [
       "['abc_82@xyz.com']"
      ]
     },
     "execution_count": 13,
     "metadata": {},
     "output_type": "execute_result"
    }
   ],
   "source": [
    "re.findall(pattern, chat2)"
   ]
  },
  {
   "cell_type": "code",
   "execution_count": 14,
   "id": "bf0f9b12-51ae-4f0b-9822-88dfa2c6d15e",
   "metadata": {},
   "outputs": [
    {
     "data": {
      "text/plain": [
       "['abc@xyz.com']"
      ]
     },
     "execution_count": 14,
     "metadata": {},
     "output_type": "execute_result"
    }
   ],
   "source": [
    "re.findall(pattern, chat3)"
   ]
  },
  {
   "cell_type": "markdown",
   "id": "6834f35e-f871-4b83-9ddd-a1cb122734cd",
   "metadata": {},
   "source": [
    "**Retrieve order number**"
   ]
  },
  {
   "cell_type": "code",
   "execution_count": 16,
   "id": "b93b06f4-2443-44eb-9055-d5ba3aa7606d",
   "metadata": {},
   "outputs": [],
   "source": [
    "chat1='userbasics: Hello, I am having an issue with my order # 412889912'\n",
    "chat2='userbasics: I have a problem with my order number 412889912'\n",
    "chat3='userbasics: My order 412889912 is having an issue, I was charged 300$ when online it says 280$'"
   ]
  },
  {
   "cell_type": "code",
   "execution_count": 17,
   "id": "e2c4928d-e468-421c-ad5a-daef7115429b",
   "metadata": {},
   "outputs": [
    {
     "data": {
      "text/plain": [
       "['412889912']"
      ]
     },
     "execution_count": 17,
     "metadata": {},
     "output_type": "execute_result"
    }
   ],
   "source": [
    "pattern = 'order[^\\d]*(\\d*)'\n",
    "re.findall(pattern, chat1)"
   ]
  },
  {
   "cell_type": "code",
   "execution_count": 18,
   "id": "351b5aab-5ae4-4428-9ced-c37e549f27ba",
   "metadata": {},
   "outputs": [
    {
     "data": {
      "text/plain": [
       "['412889912']"
      ]
     },
     "execution_count": 18,
     "metadata": {},
     "output_type": "execute_result"
    }
   ],
   "source": [
    "re.findall(pattern, chat2)"
   ]
  },
  {
   "cell_type": "code",
   "execution_count": 19,
   "id": "137f9a19-6c7c-4c35-bbbe-ebc4876209b1",
   "metadata": {},
   "outputs": [
    {
     "data": {
      "text/plain": [
       "['412889912']"
      ]
     },
     "execution_count": 19,
     "metadata": {},
     "output_type": "execute_result"
    }
   ],
   "source": [
    "re.findall(pattern, chat3)"
   ]
  },
  {
   "cell_type": "code",
   "execution_count": 20,
   "id": "87b75a3e-56b1-4707-b386-1999082da49d",
   "metadata": {},
   "outputs": [],
   "source": [
    "def get_pattern_match(pattern,text):\n",
    "    matches = re.findall(pattern,text)\n",
    "    if matches:\n",
    "        return matches[0]"
   ]
  },
  {
   "cell_type": "code",
   "execution_count": 22,
   "id": "6d97906b-4ec2-44be-a7a4-a75b57b5de85",
   "metadata": {},
   "outputs": [
    {
     "data": {
      "text/plain": [
       "'412889912'"
      ]
     },
     "execution_count": 22,
     "metadata": {},
     "output_type": "execute_result"
    }
   ],
   "source": [
    "pattern = 'order[^\\d]*(\\d*)'\n",
    "get_pattern_match(pattern, chat1)"
   ]
  },
  {
   "cell_type": "code",
   "execution_count": 23,
   "id": "df2ee47b-d870-4f4c-97d2-619ea2b2f243",
   "metadata": {},
   "outputs": [
    {
     "data": {
      "text/plain": [
       "'412889912'"
      ]
     },
     "execution_count": 23,
     "metadata": {},
     "output_type": "execute_result"
    }
   ],
   "source": [
    "get_pattern_match(pattern, chat2)"
   ]
  },
  {
   "cell_type": "code",
   "execution_count": 24,
   "id": "33ea92a8-0d15-42bd-958c-d937f69ea09f",
   "metadata": {},
   "outputs": [
    {
     "data": {
      "text/plain": [
       "'412889912'"
      ]
     },
     "execution_count": 24,
     "metadata": {},
     "output_type": "execute_result"
    }
   ],
   "source": [
    "get_pattern_match(pattern, chat3)"
   ]
  },
  {
   "cell_type": "markdown",
   "id": "c4731f10-79f5-4ecd-a1cf-111af42ad555",
   "metadata": {},
   "source": [
    "<h1>(2) Regex for Information Extraction </h1>"
   ]
  },
  {
   "cell_type": "code",
   "execution_count": 25,
   "id": "788b41dc-16ca-48b2-8d62-f6760883ae95",
   "metadata": {},
   "outputs": [],
   "source": [
    "text='''\n",
    "Born\tElon Reeve Musk\n",
    "June 28, 1971 (age 50)\n",
    "Pretoria, Transvaal, South Africa\n",
    "Citizenship\t\n",
    "South Africa (1971–present)\n",
    "Canada (1971–present)\n",
    "United States (2002–present)\n",
    "Education\tUniversity of Pennsylvania (BS, BA)\n",
    "Title\t\n",
    "Founder, CEO and Chief Engineer of SpaceX\n",
    "CEO and product architect of Tesla, Inc.\n",
    "Founder of The Boring Company and X.com (now part of PayPal)\n",
    "Co-founder of Neuralink, OpenAI, and Zip2\n",
    "Spouse(s)\t\n",
    "Justine Wilson\n",
    "​\n",
    "​(m. 2000; div. 2008)​\n",
    "Talulah Riley\n",
    "​\n",
    "​(m. 2010; div. 2012)​\n",
    "​\n",
    "​(m. 2013; div. 2016)\n",
    "'''"
   ]
  },
  {
   "cell_type": "code",
   "execution_count": 27,
   "id": "3178117a-dd65-4527-9672-f93dca5509d8",
   "metadata": {},
   "outputs": [
    {
     "data": {
      "text/plain": [
       "'50'"
      ]
     },
     "execution_count": 27,
     "metadata": {},
     "output_type": "execute_result"
    }
   ],
   "source": [
    "get_pattern_match(r'age (\\d+)', text)"
   ]
  },
  {
   "cell_type": "code",
   "execution_count": 28,
   "id": "ea85846e-8f0e-45c1-9fc5-2670a4deb108",
   "metadata": {},
   "outputs": [
    {
     "data": {
      "text/plain": [
       "'Elon Reeve Musk'"
      ]
     },
     "execution_count": 28,
     "metadata": {},
     "output_type": "execute_result"
    }
   ],
   "source": [
    "get_pattern_match(r'Born(.*)\\n', text).strip()"
   ]
  },
  {
   "cell_type": "code",
   "execution_count": 29,
   "id": "d159008d-cd45-4a49-a3a1-c9c4501e2eea",
   "metadata": {},
   "outputs": [
    {
     "data": {
      "text/plain": [
       "'June 28, 1971'"
      ]
     },
     "execution_count": 29,
     "metadata": {},
     "output_type": "execute_result"
    }
   ],
   "source": [
    "get_pattern_match(r'Born.*\\n(.*)\\(age', text).strip()"
   ]
  },
  {
   "cell_type": "code",
   "execution_count": 30,
   "id": "f1805e03-0a11-4866-9f64-b3e9367c88fa",
   "metadata": {},
   "outputs": [
    {
     "data": {
      "text/plain": [
       "'Pretoria, Transvaal, South Africa'"
      ]
     },
     "execution_count": 30,
     "metadata": {},
     "output_type": "execute_result"
    }
   ],
   "source": [
    "get_pattern_match(r'\\(age.*\\n(.*)', text).strip()"
   ]
  },
  {
   "cell_type": "code",
   "execution_count": 31,
   "id": "6939914c-004a-4eeb-a59d-6d205c69fa44",
   "metadata": {},
   "outputs": [],
   "source": [
    "def extract_personal_information(text):\n",
    "    age = get_pattern_match('age (\\d+)', text)\n",
    "    full_name = get_pattern_match('Born(.*)\\n', text)\n",
    "    birth_date = get_pattern_match('Born.*\\n(.*)\\(age', text)\n",
    "    birth_place = get_pattern_match('\\(age.*\\n(.*)', text)\n",
    "    return {\n",
    "        'age': int(age),\n",
    "        'name': full_name.strip(),\n",
    "        'birth_date': birth_date.strip(),\n",
    "        'birth_place': birth_place.strip()\n",
    "    }"
   ]
  },
  {
   "cell_type": "code",
   "execution_count": 32,
   "id": "d2ba1ce7-7d57-4792-b71c-18764eed9cef",
   "metadata": {},
   "outputs": [
    {
     "data": {
      "text/plain": [
       "{'age': 50,\n",
       " 'name': 'Elon Reeve Musk',\n",
       " 'birth_date': 'June 28, 1971',\n",
       " 'birth_place': 'Pretoria, Transvaal, South Africa'}"
      ]
     },
     "execution_count": 32,
     "metadata": {},
     "output_type": "execute_result"
    }
   ],
   "source": [
    "extract_personal_information (text)"
   ]
  },
  {
   "cell_type": "code",
   "execution_count": 33,
   "id": "3e747367-c43d-4643-bc85-2e0eeb8c73d8",
   "metadata": {},
   "outputs": [],
   "source": [
    "text = '''\n",
    "Born\tMukesh Dhirubhai Ambani\n",
    "19 April 1957 (age 64)\n",
    "Aden, Colony of Aden\n",
    "(present-day Yemen)[1][2]\n",
    "Nationality\tIndian\n",
    "Alma mater\t\n",
    "St. Xavier's College, Mumbai\n",
    "Institute of Chemical Technology (B.E.)\n",
    "Stanford University (drop-out)\n",
    "Occupation\tChairman and MD, Reliance Industries\n",
    "Spouse(s)\tNita Ambani ​(m. 1985)​[3]\n",
    "Children\t3\n",
    "Parent(s)\t\n",
    "Dhirubhai Ambani (father)\n",
    "Kokilaben Ambani (mother)\n",
    "Relatives\tAnil Ambani (brother)\n",
    "Tina Ambani (sister-in-law)\n",
    "'''"
   ]
  },
  {
   "cell_type": "code",
   "execution_count": 34,
   "id": "72571d37-1824-48c8-8a2a-8e8c13137ba4",
   "metadata": {},
   "outputs": [
    {
     "data": {
      "text/plain": [
       "{'age': 64,\n",
       " 'name': 'Mukesh Dhirubhai Ambani',\n",
       " 'birth_date': '19 April 1957',\n",
       " 'birth_place': 'Aden, Colony of Aden'}"
      ]
     },
     "execution_count": 34,
     "metadata": {},
     "output_type": "execute_result"
    }
   ],
   "source": [
    "extract_personal_information (text)"
   ]
  }
 ],
 "metadata": {
  "kernelspec": {
   "display_name": "Python 3 (ipykernel)",
   "language": "python",
   "name": "python3"
  },
  "language_info": {
   "codemirror_mode": {
    "name": "ipython",
    "version": 3
   },
   "file_extension": ".py",
   "mimetype": "text/x-python",
   "name": "python",
   "nbconvert_exporter": "python",
   "pygments_lexer": "ipython3",
   "version": "3.11.5"
  }
 },
 "nbformat": 4,
 "nbformat_minor": 5
}
